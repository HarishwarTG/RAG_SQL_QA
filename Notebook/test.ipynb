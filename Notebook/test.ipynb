{
 "cells": [
  {
   "cell_type": "code",
   "execution_count": 3,
   "metadata": {},
   "outputs": [],
   "source": [
    "from langchain.llms import GooglePalm\n",
    "import os\n",
    "from dotenv import load_dotenv\n",
    "load_dotenv()\n",
    "\n",
    "google_api_key = os.environ[\"GOOGLE_API_KEY\"]\n"
   ]
  },
  {
   "cell_type": "code",
   "execution_count": 11,
   "metadata": {},
   "outputs": [
    {
     "name": "stdout",
     "output_type": "stream",
     "text": [
      "Thank you for your question. The price of 3 Nike white t-shirts is 1800rs.\n"
     ]
    }
   ],
   "source": [
    "google_llm = GooglePalm(google_api_key=google_api_key, temperature=0.2)\n",
    "\n",
    "ans=google_llm('''Question:What is the price of 3 nike white tshirt? Answer:1800rs prompt:your are a inventory manager Walmart store ,you got the question from employee. \n",
    "               response professionally with the answer to employee ''')\n",
    "\n",
    "print(ans)"
   ]
  },
  {
   "cell_type": "code",
   "execution_count": 4,
   "metadata": {},
   "outputs": [
    {
     "data": {
      "text/plain": [
       "[\"How many t-shirts do we have left for Nike in XS size and white color? SELECT sum(stock_quantity) FROM t_shirts WHERE brand = 'Nike' AND color = 'White' AND size = 'XS' Result of the SQL query 91\",\n",
       " \"How much is the total price of the inventory for all S-size t-shirts? SELECT SUM(price_per_unit * stock_quantity) FROM t_shirts WHERE size = 'S' Result of the SQL query 22292\",\n",
       " \"If we have to sell all the Levi’s T-shirts today with discounts applied. How much revenue  our store will generate (post discounts)? SELECT sum(a.total_amount * ((100-COALESCE(discounts.pct_discount,0))/100)) as total_revenue from\\n(select sum(price_per_unit * stock_quantity) as total_amount, t_shirt_id from t_shirts where brand = 'Levi'\\ngroup by t_shirt_id) a left join discounts on a.t_shirt_id = discounts.t_shirt_id\\n  Result of the SQL query 16725.4\",\n",
       " \"If we have to sell all the Levi’s T-shirts today. How much revenue our store will generate without discount? SELECT SUM(price_per_unit * stock_quantity) FROM t_shirts WHERE brand = 'Levi' Result of the SQL query 17462\",\n",
       " \"How many white color Levi's shirt I have? SELECT sum(stock_quantity) FROM t_shirts WHERE brand = 'Levi' AND color = 'White' Result of the SQL query 290\",\n",
       " \"How much sales amount will be generated if we sell all large size t-shirts today in Nike brand after discounts? SELECT sum(a.total_amount * ((100-COALESCE(discounts.pct_discount,0))/100)) as total_revenue from\\n(select sum(price_per_unit * stock_quantity) as total_amount, t_shirt_id from t_shirts where brand = 'Nike' and size='L'\\ngroup by t_shirt_id) a left join discounts on a.t_shirt_id = discounts.t_shirt_id\\n  Result of the SQL query 290\"]"
      ]
     },
     "execution_count": 4,
     "metadata": {},
     "output_type": "execute_result"
    }
   ],
   "source": [
    "few_shots = [\n",
    "    {'Question' : \"How many t-shirts do we have left for Nike in XS size and white color?\",\n",
    "     'SQLQuery' : \"SELECT sum(stock_quantity) FROM t_shirts WHERE brand = 'Nike' AND color = 'White' AND size = 'XS'\",\n",
    "     'SQLResult': \"Result of the SQL query\",\n",
    "     'Answer' : \"91\"},\n",
    "    {'Question': \"How much is the total price of the inventory for all S-size t-shirts?\",\n",
    "     'SQLQuery':\"SELECT SUM(price_per_unit * stock_quantity) FROM t_shirts WHERE size = 'S'\",\n",
    "     'SQLResult': \"Result of the SQL query\",\n",
    "     'Answer': \"22292\"},\n",
    "    {'Question': \"If we have to sell all the Levi’s T-shirts today with discounts applied. How much revenue  our store will generate (post discounts)?\" ,\n",
    "     'SQLQuery' : \"\"\"SELECT sum(a.total_amount * ((100-COALESCE(discounts.pct_discount,0))/100)) as total_revenue from\n",
    "(select sum(price_per_unit * stock_quantity) as total_amount, t_shirt_id from t_shirts where brand = 'Levi'\n",
    "group by t_shirt_id) a left join discounts on a.t_shirt_id = discounts.t_shirt_id\n",
    " \"\"\",\n",
    "     'SQLResult': \"Result of the SQL query\",\n",
    "     'Answer': \"16725.4\"} ,\n",
    "     {'Question' : \"If we have to sell all the Levi’s T-shirts today. How much revenue our store will generate without discount?\" ,\n",
    "      'SQLQuery': \"SELECT SUM(price_per_unit * stock_quantity) FROM t_shirts WHERE brand = 'Levi'\",\n",
    "      'SQLResult': \"Result of the SQL query\",\n",
    "      'Answer' : \"17462\"},\n",
    "    {'Question': \"How many white color Levi's shirt I have?\",\n",
    "     'SQLQuery' : \"SELECT sum(stock_quantity) FROM t_shirts WHERE brand = 'Levi' AND color = 'White'\",\n",
    "     'SQLResult': \"Result of the SQL query\",\n",
    "     'Answer' : \"290\"\n",
    "     },\n",
    "    {'Question': \"How much sales amount will be generated if we sell all large size t-shirts today in Nike brand after discounts?\",\n",
    "     'SQLQuery' : \"\"\"SELECT sum(a.total_amount * ((100-COALESCE(discounts.pct_discount,0))/100)) as total_revenue from\n",
    "(select sum(price_per_unit * stock_quantity) as total_amount, t_shirt_id from t_shirts where brand = 'Nike' and size='L'\n",
    "group by t_shirt_id) a left join discounts on a.t_shirt_id = discounts.t_shirt_id\n",
    " \"\"\",\n",
    "     'SQLResult': \"Result of the SQL query\",\n",
    "     'Answer' : \"290\"\n",
    "    }\n",
    "]\n",
    "\n",
    "to_vectorize = [\" \".join(example.values()) for example in few_shots]\n",
    "\n",
    "to_vectorize"
   ]
  },
  {
   "cell_type": "code",
   "execution_count": 6,
   "metadata": {},
   "outputs": [],
   "source": [
    "from langchain.embeddings import HuggingFaceEmbeddings\n",
    "from langchain.vectorstores import FAISS\n",
    "\n",
    "embeddings= HuggingFaceEmbeddings(model_name='sentence-transformers/all-MiniLM-L6-v2')\n",
    "\n",
    "vs = FAISS.from_texts(to_vectorize, embeddings, metadatas=few_shots)"
   ]
  },
  {
   "cell_type": "code",
   "execution_count": 17,
   "metadata": {},
   "outputs": [
    {
     "data": {
      "text/plain": [
       "{'title': 'HuggingFaceEmbeddings',\n",
       " 'description': 'HuggingFace sentence_transformers embedding models.\\n\\nTo use, you should have the ``sentence_transformers`` python package installed.\\n\\nExample:\\n    .. code-block:: python\\n\\n        from langchain.embeddings import HuggingFaceEmbeddings\\n\\n        model_name = \"sentence-transformers/all-mpnet-base-v2\"\\n        model_kwargs = {\\'device\\': \\'cpu\\'}\\n        encode_kwargs = {\\'normalize_embeddings\\': False}\\n        hf = HuggingFaceEmbeddings(\\n            model_name=model_name,\\n            model_kwargs=model_kwargs,\\n            encode_kwargs=encode_kwargs\\n        )',\n",
       " 'type': 'object',\n",
       " 'properties': {'client': {'title': 'Client'},\n",
       "  'model_name': {'title': 'Model Name',\n",
       "   'default': 'sentence-transformers/all-mpnet-base-v2',\n",
       "   'type': 'string'},\n",
       "  'cache_folder': {'title': 'Cache Folder', 'type': 'string'},\n",
       "  'model_kwargs': {'title': 'Model Kwargs', 'type': 'object'},\n",
       "  'encode_kwargs': {'title': 'Encode Kwargs', 'type': 'object'},\n",
       "  'multi_process': {'title': 'Multi Process',\n",
       "   'default': False,\n",
       "   'type': 'boolean'}},\n",
       " 'additionalProperties': False}"
      ]
     },
     "execution_count": 17,
     "metadata": {},
     "output_type": "execute_result"
    }
   ],
   "source": [
    "\n",
    "dir(vs)\n",
    "\n",
    "# vs.similarity_search_with_score_by_vector(\"hello\")\n",
    "dir(embeddings)\n",
    "# embeddings.parse_raw(\"hello\")\n"
   ]
  }
 ],
 "metadata": {
  "kernelspec": {
   "display_name": "Python 3",
   "language": "python",
   "name": "python3"
  },
  "language_info": {
   "codemirror_mode": {
    "name": "ipython",
    "version": 3
   },
   "file_extension": ".py",
   "mimetype": "text/x-python",
   "name": "python",
   "nbconvert_exporter": "python",
   "pygments_lexer": "ipython3",
   "version": "3.10.0"
  }
 },
 "nbformat": 4,
 "nbformat_minor": 2
}
