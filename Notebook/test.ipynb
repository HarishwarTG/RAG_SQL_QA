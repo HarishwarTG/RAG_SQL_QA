{
 "cells": [
  {
   "cell_type": "code",
   "execution_count": 1,
   "metadata": {},
   "outputs": [],
   "source": [
    "from langchain.llms import GooglePalm\n",
    "import os\n",
    "from dotenv import load_dotenv\n",
    "load_dotenv()\n",
    "\n",
    "google_api_key = os.environ[\"GOOGLE_API_KEY\"]\n"
   ]
  },
  {
   "cell_type": "code",
   "execution_count": 7,
   "metadata": {},
   "outputs": [
    {
     "name": "stdout",
     "output_type": "stream",
     "text": [
      "Question: Availability stock of LEvi tshirts \n",
      "SQLQuery: SELECT `stock` FROM `product` WHERE `product_name` = 'Levi tshirts'\n"
     ]
    }
   ],
   "source": [
    "google_llm = GooglePalm(google_api_key=google_api_key, temperature=0.2)\n",
    "\n",
    "ans=google_llm('''Question:Availability stock of LEvi tshirts , prompt:You are a MySQL expert. Given an input question, first create a syntactically correct MySQL query to run, then look at the results of the query and return the answer to the input question.\n",
    "    Unless the user specifies in the question a specific number of examples to obtain, query for at most {top_k} results using the LIMIT clause as per MySQL. You can order the results to return the most informative data in the database.\n",
    "    Never query for all columns from a table. You must query only the columns that are needed to answer the question. Wrap each column name in backticks (`) to denote them as delimited identifiers.\n",
    "    Pay attention to use only the column names you can see in the tables below. Be careful to not query for columns that do not exist. Also, pay attention to which column is in which table.\n",
    "    Pay attention to use CURDATE() function to get the current date, if the question involves \"today\".\n",
    "    \n",
    "    Use the following format:\n",
    "    \n",
    "    Question: Question here\n",
    "    SQLQuery: Query to run with no pre-amble\n",
    "    \n",
    "    No pre-amble.''')\n",
    " \n",
    "print(ans)\n",
    "\n"
   ]
  },
  {
   "cell_type": "code",
   "execution_count": 6,
   "metadata": {},
   "outputs": [
    {
     "name": "stdout",
     "output_type": "stream",
     "text": [
      "The price of 3 Nike white t-shirts and 1 Adidas shirt is as follows:\n",
      "\n",
      "* Nike white t-shirt: Rs. 600 each\n",
      "* Adidas shirt: Rs. 800\n",
      "\n",
      "Therefore, the total cost is Rs. (600 x 3) + 800 = Rs. 1800.\n"
     ]
    }
   ],
   "source": [
    "\n",
    "ans=google_llm('''Question:What is the price of 3 nike white tshirt and 1 adidas shirt? Answer:1800rs,800rs prompt:your are a inventory manager Walmart store ,you got the question from employee. \n",
    "               response professionally with the answer to employee .if multiple answers return in list format.''')\n",
    "\n",
    "print(ans)"
   ]
  },
  {
   "cell_type": "code",
   "execution_count": 3,
   "metadata": {},
   "outputs": [],
   "source": [
    "\n",
    "db_user = os.getenv(\"db_user\")\n",
    "db_password = os.getenv(\"db_password\")\n",
    "db_host = os.getenv(\"db_host\")\n",
    "db_name = os.getenv(\"db_name\")\n",
    "\n",
    "from langchain.utilities import SQLDatabase"
   ]
  },
  {
   "cell_type": "code",
   "execution_count": 4,
   "metadata": {},
   "outputs": [
    {
     "data": {
      "text/plain": [
       "'Walmart_store'"
      ]
     },
     "execution_count": 4,
     "metadata": {},
     "output_type": "execute_result"
    }
   ],
   "source": [
    "db_name"
   ]
  },
  {
   "cell_type": "code",
   "execution_count": 5,
   "metadata": {},
   "outputs": [],
   "source": [
    "db=SQLDatabase.from_uri(f\"mysql+pymysql://{db_user}:{db_password}@{db_host}/{db_name}\")"
   ]
  },
  {
   "cell_type": "code",
   "execution_count": 15,
   "metadata": {},
   "outputs": [
    {
     "name": "stdout",
     "output_type": "stream",
     "text": [
      "['discounts', 'shoes', 't_shirts']\n"
     ]
    },
    {
     "name": "stderr",
     "output_type": "stream",
     "text": [
      "z:\\RAG_SQL\\venv\\lib\\site-packages\\langchain\\utilities\\sql_database.py:278: UserWarning: This method is deprecated - please use `get_usable_table_names`.\n",
      "  warnings.warn(\n"
     ]
    }
   ],
   "source": [
    "print(db.get_table_names())"
   ]
  },
  {
   "cell_type": "code",
   "execution_count": 13,
   "metadata": {},
   "outputs": [
    {
     "name": "stdout",
     "output_type": "stream",
     "text": [
      "\n",
      "CREATE TABLE discounts (\n",
      "\tdiscount_id INTEGER NOT NULL AUTO_INCREMENT, \n",
      "\tt_shirt_id INTEGER, \n",
      "\tshoe_id INTEGER, \n",
      "\tpct_discount DECIMAL(5, 2), \n",
      "\tPRIMARY KEY (discount_id), \n",
      "\tCONSTRAINT discounts_chk_1 CHECK ((`pct_discount` between 2 and 10))\n",
      ")COLLATE utf8mb4_0900_ai_ci ENGINE=InnoDB DEFAULT CHARSET=utf8mb4\n",
      "\n",
      "/*\n",
      "3 rows from discounts table:\n",
      "discount_id\tt_shirt_id\tshoe_id\tpct_discount\n",
      "1\t1\t1\t5.00\n",
      "2\t2\t2\t3.50\n",
      "3\t3\t3\t4.00\n",
      "*/\n",
      "\n",
      "\n",
      "CREATE TABLE shoes (\n",
      "\tshoe_id INTEGER NOT NULL AUTO_INCREMENT, \n",
      "\tmodel ENUM('Nike Air Force','Jordan','Adidas Ultraboost','Puma RS-X','Reebok Classic','Bata Power','Nike Zoom') NOT NULL, \n",
      "\tcolor ENUM('Red','Blue','Black','White','Green') NOT NULL, \n",
      "\tsize ENUM('6','7','8','9','10') NOT NULL, \n",
      "\tprice_per_unit INTEGER, \n",
      "\tstock_quantity INTEGER NOT NULL, \n",
      "\tPRIMARY KEY (shoe_id), \n",
      "\tCONSTRAINT shoes_chk_1 CHECK ((`price_per_unit` between 1000 and 3500))\n",
      ")COLLATE utf8mb4_0900_ai_ci ENGINE=InnoDB DEFAULT CHARSET=utf8mb4\n",
      "\n",
      "/*\n",
      "3 rows from shoes table:\n",
      "shoe_id\tmodel\tcolor\tsize\tprice_per_unit\tstock_quantity\n",
      "1\tNike Air Force\tRed\t8\t2000\t20\n",
      "2\tJordan\tBlue\t9\t2500\t15\n",
      "3\tAdidas Ultraboost\tBlack\t10\t2000\t30\n",
      "*/\n",
      "\n",
      "\n",
      "CREATE TABLE t_shirts (\n",
      "\tt_shirt_id INTEGER NOT NULL AUTO_INCREMENT, \n",
      "\tbrand ENUM('Van Huesen','Levi','Nike','Adidas') NOT NULL, \n",
      "\tcolor ENUM('Red','Blue','Black','White') NOT NULL, \n",
      "\tsize ENUM('XS','S','M','L','XL') NOT NULL, \n",
      "\tprice_per_unit INTEGER, \n",
      "\tstock_quantity INTEGER NOT NULL, \n",
      "\tPRIMARY KEY (t_shirt_id), \n",
      "\tCONSTRAINT t_shirts_chk_1 CHECK ((`price_per_unit` between 500 and 1200))\n",
      ")COLLATE utf8mb4_0900_ai_ci ENGINE=InnoDB DEFAULT CHARSET=utf8mb4\n",
      "\n",
      "/*\n",
      "3 rows from t_shirts table:\n",
      "t_shirt_id\tbrand\tcolor\tsize\tprice_per_unit\tstock_quantity\n",
      "1\tVan Huesen\tRed\tM\t1000\t50\n",
      "2\tLevi\tBlue\tL\t1200\t30\n",
      "3\tNike\tBlack\tS\t1100\t20\n",
      "*/\n"
     ]
    }
   ],
   "source": [
    "print(db.table_info)\n"
   ]
  },
  {
   "cell_type": "code",
   "execution_count": 4,
   "metadata": {},
   "outputs": [
    {
     "data": {
      "text/plain": [
       "[\"How many t-shirts do we have left for Nike in XS size and white color? SELECT sum(stock_quantity) FROM t_shirts WHERE brand = 'Nike' AND color = 'White' AND size = 'XS' Result of the SQL query 91\",\n",
       " \"How much is the total price of the inventory for all S-size t-shirts? SELECT SUM(price_per_unit * stock_quantity) FROM t_shirts WHERE size = 'S' Result of the SQL query 22292\",\n",
       " \"If we have to sell all the Levi’s T-shirts today with discounts applied. How much revenue  our store will generate (post discounts)? SELECT sum(a.total_amount * ((100-COALESCE(discounts.pct_discount,0))/100)) as total_revenue from\\n(select sum(price_per_unit * stock_quantity) as total_amount, t_shirt_id from t_shirts where brand = 'Levi'\\ngroup by t_shirt_id) a left join discounts on a.t_shirt_id = discounts.t_shirt_id\\n  Result of the SQL query 16725.4\",\n",
       " \"If we have to sell all the Levi’s T-shirts today. How much revenue our store will generate without discount? SELECT SUM(price_per_unit * stock_quantity) FROM t_shirts WHERE brand = 'Levi' Result of the SQL query 17462\",\n",
       " \"How many white color Levi's shirt I have? SELECT sum(stock_quantity) FROM t_shirts WHERE brand = 'Levi' AND color = 'White' Result of the SQL query 290\",\n",
       " \"How much sales amount will be generated if we sell all large size t-shirts today in Nike brand after discounts? SELECT sum(a.total_amount * ((100-COALESCE(discounts.pct_discount,0))/100)) as total_revenue from\\n(select sum(price_per_unit * stock_quantity) as total_amount, t_shirt_id from t_shirts where brand = 'Nike' and size='L'\\ngroup by t_shirt_id) a left join discounts on a.t_shirt_id = discounts.t_shirt_id\\n  Result of the SQL query 290\"]"
      ]
     },
     "execution_count": 4,
     "metadata": {},
     "output_type": "execute_result"
    }
   ],
   "source": [
    "few_shots = [\n",
    "    {'Question' : \"How many t-shirts do we have left for Nike in XS size and white color?\",\n",
    "     'SQLQuery' : \"SELECT sum(stock_quantity) FROM t_shirts WHERE brand = 'Nike' AND color = 'White' AND size = 'XS'\",\n",
    "     'SQLResult': \"Result of the SQL query\",\n",
    "     'Answer' : \"91\"},\n",
    "    {'Question': \"How much is the total price of the inventory for all S-size t-shirts?\",\n",
    "     'SQLQuery':\"SELECT SUM(price_per_unit * stock_quantity) FROM t_shirts WHERE size = 'S'\",\n",
    "     'SQLResult': \"Result of the SQL query\",\n",
    "     'Answer': \"22292\"},\n",
    "    {'Question': \"If we have to sell all the Levi’s T-shirts today with discounts applied. How much revenue  our store will generate (post discounts)?\" ,\n",
    "     'SQLQuery' : \"\"\"SELECT sum(a.total_amount * ((100-COALESCE(discounts.pct_discount,0))/100)) as total_revenue from\n",
    "(select sum(price_per_unit * stock_quantity) as total_amount, t_shirt_id from t_shirts where brand = 'Levi'\n",
    "group by t_shirt_id) a left join discounts on a.t_shirt_id = discounts.t_shirt_id\n",
    " \"\"\",\n",
    "     'SQLResult': \"Result of the SQL query\",\n",
    "     'Answer': \"16725.4\"} ,\n",
    "     {'Question' : \"If we have to sell all the Levi’s T-shirts today. How much revenue our store will generate without discount?\" ,\n",
    "      'SQLQuery': \"SELECT SUM(price_per_unit * stock_quantity) FROM t_shirts WHERE brand = 'Levi'\",\n",
    "      'SQLResult': \"Result of the SQL query\",\n",
    "      'Answer' : \"17462\"},\n",
    "    {'Question': \"How many white color Levi's shirt I have?\",\n",
    "     'SQLQuery' : \"SELECT sum(stock_quantity) FROM t_shirts WHERE brand = 'Levi' AND color = 'White'\",\n",
    "     'SQLResult': \"Result of the SQL query\",\n",
    "     'Answer' : \"290\"\n",
    "     },\n",
    "    {'Question': \"How much sales amount will be generated if we sell all large size t-shirts today in Nike brand after discounts?\",\n",
    "     'SQLQuery' : \"\"\"SELECT sum(a.total_amount * ((100-COALESCE(discounts.pct_discount,0))/100)) as total_revenue from\n",
    "(select sum(price_per_unit * stock_quantity) as total_amount, t_shirt_id from t_shirts where brand = 'Nike' and size='L'\n",
    "group by t_shirt_id) a left join discounts on a.t_shirt_id = discounts.t_shirt_id\n",
    " \"\"\",\n",
    "     'SQLResult': \"Result of the SQL query\",\n",
    "     'Answer' : \"290\"\n",
    "    }\n",
    "]\n",
    "\n",
    "to_vectorize = [\" \".join(example.values()) for example in few_shots]\n",
    "\n",
    "to_vectorize"
   ]
  },
  {
   "cell_type": "code",
   "execution_count": 6,
   "metadata": {},
   "outputs": [],
   "source": [
    "from langchain.embeddings import HuggingFaceEmbeddings\n",
    "from langchain.vectorstores import FAISS\n",
    "\n",
    "embeddings= HuggingFaceEmbeddings(model_name='sentence-transformers/all-MiniLM-L6-v2')\n",
    "\n",
    "vs = FAISS.from_texts(to_vectorize, embeddings, metadatas=few_shots)"
   ]
  },
  {
   "cell_type": "code",
   "execution_count": 17,
   "metadata": {},
   "outputs": [
    {
     "data": {
      "text/plain": [
       "{'title': 'HuggingFaceEmbeddings',\n",
       " 'description': 'HuggingFace sentence_transformers embedding models.\\n\\nTo use, you should have the ``sentence_transformers`` python package installed.\\n\\nExample:\\n    .. code-block:: python\\n\\n        from langchain.embeddings import HuggingFaceEmbeddings\\n\\n        model_name = \"sentence-transformers/all-mpnet-base-v2\"\\n        model_kwargs = {\\'device\\': \\'cpu\\'}\\n        encode_kwargs = {\\'normalize_embeddings\\': False}\\n        hf = HuggingFaceEmbeddings(\\n            model_name=model_name,\\n            model_kwargs=model_kwargs,\\n            encode_kwargs=encode_kwargs\\n        )',\n",
       " 'type': 'object',\n",
       " 'properties': {'client': {'title': 'Client'},\n",
       "  'model_name': {'title': 'Model Name',\n",
       "   'default': 'sentence-transformers/all-mpnet-base-v2',\n",
       "   'type': 'string'},\n",
       "  'cache_folder': {'title': 'Cache Folder', 'type': 'string'},\n",
       "  'model_kwargs': {'title': 'Model Kwargs', 'type': 'object'},\n",
       "  'encode_kwargs': {'title': 'Encode Kwargs', 'type': 'object'},\n",
       "  'multi_process': {'title': 'Multi Process',\n",
       "   'default': False,\n",
       "   'type': 'boolean'}},\n",
       " 'additionalProperties': False}"
      ]
     },
     "execution_count": 17,
     "metadata": {},
     "output_type": "execute_result"
    }
   ],
   "source": [
    "\n",
    "dir(vs)\n",
    "\n",
    "# vs.similarity_search_with_score_by_vector(\"hello\")\n",
    "dir(embeddings)\n",
    "# embeddings.parse_raw(\"hello\")\n"
   ]
  }
 ],
 "metadata": {
  "kernelspec": {
   "display_name": "Python 3",
   "language": "python",
   "name": "python3"
  },
  "language_info": {
   "codemirror_mode": {
    "name": "ipython",
    "version": 3
   },
   "file_extension": ".py",
   "mimetype": "text/x-python",
   "name": "python",
   "nbconvert_exporter": "python",
   "pygments_lexer": "ipython3",
   "version": "3.10.0"
  }
 },
 "nbformat": 4,
 "nbformat_minor": 2
}
